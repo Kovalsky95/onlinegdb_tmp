{
 "cells": [
  {
   "cell_type": "code",
   "execution_count": 1,
   "id": "17bff823",
   "metadata": {},
   "outputs": [
    {
     "ename": "SyntaxError",
     "evalue": "invalid syntax (<ipython-input-1-310f1a7c24a4>, line 1)",
     "output_type": "error",
     "traceback": [
      "\u001b[1;36m  File \u001b[1;32m\"<ipython-input-1-310f1a7c24a4>\"\u001b[1;36m, line \u001b[1;32m1\u001b[0m\n\u001b[1;33m    ..\\SpyderProject\\detector_streaming\\venv\\Scripts\\activate\u001b[0m\n\u001b[1;37m    ^\u001b[0m\n\u001b[1;31mSyntaxError\u001b[0m\u001b[1;31m:\u001b[0m invalid syntax\n"
     ]
    }
   ],
   "source": [
    "..\\SpyderProject\\detector_streaming\\venv\\Scripts\\activate"
   ]
  },
  {
   "cell_type": "markdown",
   "id": "805d023a",
   "metadata": {},
   "source": [
    "#https://youtu.be/ywaSiIf1C2w?t=505"
   ]
  },
  {
   "cell_type": "markdown",
   "id": "fdc6fb08",
   "metadata": {},
   "source": [
    "#face_detector.py"
   ]
  },
  {
   "cell_type": "code",
   "execution_count": null,
   "id": "aee98625",
   "metadata": {},
   "outputs": [],
   "source": [
    "import cv2;\n",
    "\n",
    "cap = cv2.VideoCapture(0, cv2.CAP_DSHOW);\n",
    "face_detector = cv2.CascadeClassifier(cv2.data.haarcascades +\n",
    "    \"haarcascade_frontalface_default.xml\");\n",
    "while True:\n",
    "    ret, frame = cap.read();\n",
    "    if ret:\n",
    "        gray = cv2.cvtColor(frame, cv2.COLOR_BGR2GRAY);\n",
    "        faces = face_detector.detectMultiScale(gray, 1.3, 5);\n",
    "        for(x, y, w, h) in faces:\n",
    "            cv2.rectangle(frame, (x, y), (x + w, y + h), (0, 255, 0), 2);\n",
    "        cv2.imshow(\"PenguinL\", frame);\n",
    "        \n",
    "        if cv2.waitKey(1) & 0xFF == ord(\"q\"):\n",
    "            break;\n",
    "\n",
    "cap.release();\n",
    "cv2.destroyAllWindows();"
   ]
  },
  {
   "cell_type": "markdown",
   "id": "89af6c32",
   "metadata": {},
   "source": [
    "#videostreaming_web.py"
   ]
  },
  {
   "cell_type": "code",
   "execution_count": null,
   "id": "89eaf90b",
   "metadata": {},
   "outputs": [],
   "source": [
    "from flask import Flask;\n",
    "from flask import render_template;\n",
    "from flask import Response;\n",
    "import cv2;\n",
    "\n",
    "app = Flask(__name__);\n",
    "cap = cv2.VideoCapture(0, cv2.CAP_DSHOW);\n",
    "face_detector = cv2.CascadeClassifier(cv2.data.haarcascades +\n",
    "    \"haarcascade_frontalface_default.xml\");\n",
    "\n",
    "def generate():\n",
    "    while True:\n",
    "        ret, frame = cap.read();\n",
    "        if ret:\n",
    "            gray = cv2.cvtColor(frame, cv2.COLOR_BGR2GRAY);\n",
    "            faces = face_detector.detectMultiScale(gray, 1.3, 5);\n",
    "            for(x, y, w, h) in faces:\n",
    "                cv2.rectangle(frame, (x, y), (x + w, y + h), (0, 255, 0), 2);\n",
    "            (flag, encodedImage) = cv2.imencode(\".jpg\", frame);\n",
    "            if not flag:\n",
    "                continue\n",
    "            yield(b'--frame\\r\\n' b'Content-Type: image/jpeg\\r\\n\\r\\n' +\n",
    "                 bytearray(encodedImage) + b'\\r\\n');\n",
    "\n",
    "@app.route(\"/\")\n",
    "def index():\n",
    "    return render_template(\"index.html\");\n",
    "\n",
    "@app.route(\"/video_feed\")\n",
    "def video_feed():\n",
    "    return Response(generate(),\n",
    "        mimetype = \"multipart/x-mixed-replace; boundary=frame\");\n",
    "\n",
    "\n",
    "if __name__ == \"__main__\":\n",
    "    app.run(host='0.0.0.0', port=1111, debug=False);\n",
    "\n",
    "cap.release();"
   ]
  },
  {
   "cell_type": "markdown",
   "id": "131ce3ca",
   "metadata": {},
   "source": [
    "#templates/index.html"
   ]
  },
  {
   "cell_type": "code",
   "execution_count": null,
   "id": "61ffa7d1",
   "metadata": {},
   "outputs": [],
   "source": [
    "<!DOCTYPE html>\n",
    "<html lang=\"en\">\n",
    "    <head>\n",
    "        <meta charset=\"UTF-8\">\n",
    "<!--         <meta http-equiv=\"X_UA_Compatible\" content=\"IE-edge\"> -->\n",
    "        <meta name=\"viewport\" content=\"width=device-width, initial-scale=1.0\">\n",
    "        <title>\n",
    "            PenguinL\n",
    "        </title>\n",
    "        <style>\n",
    "            .container{\n",
    "                margin: 0;\n",
    "                padding: 0;\n",
    "                width: 100%;\n",
    "                height: 100vh;\n",
    "                background-color: #E2D8F8;\n",
    "                color: black;\n",
    "                text-align: center;\n",
    "            }\n",
    "        </style>\n",
    "    </head>\n",
    "    <body class = \"container\">\n",
    "        <h1>\n",
    "            Video en directo\n",
    "        </h1>\n",
    "        <img src=\"{{ url_for('video_feed') }}\">\n",
    "    </body>\n",
    "</html>"
   ]
  }
 ],
 "metadata": {
  "kernelspec": {
   "display_name": "Python 3 (ipykernel)",
   "language": "python",
   "name": "python3"
  },
  "language_info": {
   "codemirror_mode": {
    "name": "ipython",
    "version": 3
   },
   "file_extension": ".py",
   "mimetype": "text/x-python",
   "name": "python",
   "nbconvert_exporter": "python",
   "pygments_lexer": "ipython3",
   "version": "3.11.3"
  }
 },
 "nbformat": 4,
 "nbformat_minor": 5
}
