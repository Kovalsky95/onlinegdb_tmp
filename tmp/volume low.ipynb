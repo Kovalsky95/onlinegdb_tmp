{
 "cells": [
  {
   "cell_type": "code",
   "execution_count": 1,
   "id": "b91b1c3a",
   "metadata": {},
   "outputs": [
    {
     "ename": "SyntaxError",
     "evalue": "invalid syntax (<ipython-input-1-310f1a7c24a4>, line 1)",
     "output_type": "error",
     "traceback": [
      "\u001b[1;36m  File \u001b[1;32m\"<ipython-input-1-310f1a7c24a4>\"\u001b[1;36m, line \u001b[1;32m1\u001b[0m\n\u001b[1;33m    ..\\SpyderProject\\detector_streaming\\venv\\Scripts\\activate\u001b[0m\n\u001b[1;37m    ^\u001b[0m\n\u001b[1;31mSyntaxError\u001b[0m\u001b[1;31m:\u001b[0m invalid syntax\n"
     ]
    }
   ],
   "source": [
    "..\\SpyderProject\\detector_streaming\\venv\\Scripts\\activate"
   ]
  },
  {
   "cell_type": "markdown",
   "id": "184868b2",
   "metadata": {},
   "source": [
    "## jkjk"
   ]
  },
  {
   "cell_type": "code",
   "execution_count": 2,
   "id": "31ca20dd",
   "metadata": {},
   "outputs": [
    {
     "name": "stdout",
     "output_type": "stream",
     "text": [
      "['o', 'b', 'j', 'e', 'c', 't', 'i', 'v', 'e']\n"
     ]
    }
   ],
   "source": [
    "## pip install flask\n",
    "# import os;\n",
    "# import tkinter;\n",
    "# from tkinter import *;\n",
    "# tkinter.test();\n",
    "f = 'objective';\n",
    "print(list(f));"
   ]
  },
  {
   "cell_type": "code",
   "execution_count": 14,
   "id": "0149cfe9",
   "metadata": {
    "scrolled": false
   },
   "outputs": [
    {
     "ename": "KeyboardInterrupt",
     "evalue": "",
     "output_type": "error",
     "traceback": [
      "\u001b[1;31m---------------------------------------------------------------------------\u001b[0m",
      "\u001b[1;31mKeyboardInterrupt\u001b[0m                         Traceback (most recent call last)",
      "\u001b[1;32m<ipython-input-14-5a9d7006e21e>\u001b[0m in \u001b[0;36m<module>\u001b[1;34m\u001b[0m\n\u001b[0;32m     23\u001b[0m     \u001b[0msuccess\u001b[0m\u001b[1;33m,\u001b[0m \u001b[0mimg\u001b[0m \u001b[1;33m=\u001b[0m \u001b[0mcap\u001b[0m\u001b[1;33m.\u001b[0m\u001b[0mread\u001b[0m\u001b[1;33m(\u001b[0m\u001b[1;33m)\u001b[0m\u001b[1;33m;\u001b[0m\u001b[1;33m\u001b[0m\u001b[1;33m\u001b[0m\u001b[0m\n\u001b[0;32m     24\u001b[0m     \u001b[0mimgRGB\u001b[0m \u001b[1;33m=\u001b[0m \u001b[0mcv2\u001b[0m\u001b[1;33m.\u001b[0m\u001b[0mcvtColor\u001b[0m\u001b[1;33m(\u001b[0m\u001b[0mimg\u001b[0m\u001b[1;33m,\u001b[0m \u001b[0mcv2\u001b[0m\u001b[1;33m.\u001b[0m\u001b[0mCOLOR_BGR2RGB\u001b[0m\u001b[1;33m)\u001b[0m\u001b[1;33m;\u001b[0m\u001b[1;33m\u001b[0m\u001b[1;33m\u001b[0m\u001b[0m\n\u001b[1;32m---> 25\u001b[1;33m     \u001b[0mresults\u001b[0m \u001b[1;33m=\u001b[0m \u001b[0mhands\u001b[0m\u001b[1;33m.\u001b[0m\u001b[0mprocess\u001b[0m\u001b[1;33m(\u001b[0m\u001b[0mimgRGB\u001b[0m\u001b[1;33m)\u001b[0m\u001b[1;33m;\u001b[0m\u001b[1;33m\u001b[0m\u001b[1;33m\u001b[0m\u001b[0m\n\u001b[0m\u001b[0;32m     26\u001b[0m \u001b[1;33m\u001b[0m\u001b[0m\n\u001b[0;32m     27\u001b[0m     \u001b[0mimList\u001b[0m \u001b[1;33m=\u001b[0m \u001b[1;33m[\u001b[0m\u001b[1;33m]\u001b[0m\u001b[1;33m;\u001b[0m\u001b[1;33m\u001b[0m\u001b[1;33m\u001b[0m\u001b[0m\n",
      "\u001b[1;32mC:\\Programm\\anaconda\\anaconda3\\lib\\site-packages\\mediapipe\\python\\solutions\\hands.py\u001b[0m in \u001b[0;36mprocess\u001b[1;34m(self, image)\u001b[0m\n\u001b[0;32m    151\u001b[0m     \"\"\"\n\u001b[0;32m    152\u001b[0m \u001b[1;33m\u001b[0m\u001b[0m\n\u001b[1;32m--> 153\u001b[1;33m     \u001b[1;32mreturn\u001b[0m \u001b[0msuper\u001b[0m\u001b[1;33m(\u001b[0m\u001b[1;33m)\u001b[0m\u001b[1;33m.\u001b[0m\u001b[0mprocess\u001b[0m\u001b[1;33m(\u001b[0m\u001b[0minput_data\u001b[0m\u001b[1;33m=\u001b[0m\u001b[1;33m{\u001b[0m\u001b[1;34m'image'\u001b[0m\u001b[1;33m:\u001b[0m \u001b[0mimage\u001b[0m\u001b[1;33m}\u001b[0m\u001b[1;33m)\u001b[0m\u001b[1;33m\u001b[0m\u001b[1;33m\u001b[0m\u001b[0m\n\u001b[0m",
      "\u001b[1;32mC:\\Programm\\anaconda\\anaconda3\\lib\\site-packages\\mediapipe\\python\\solution_base.py\u001b[0m in \u001b[0;36mprocess\u001b[1;34m(self, input_data)\u001b[0m\n\u001b[0;32m    332\u001b[0m                                      data).at(self._simulated_timestamp))\n\u001b[0;32m    333\u001b[0m \u001b[1;33m\u001b[0m\u001b[0m\n\u001b[1;32m--> 334\u001b[1;33m     \u001b[0mself\u001b[0m\u001b[1;33m.\u001b[0m\u001b[0m_graph\u001b[0m\u001b[1;33m.\u001b[0m\u001b[0mwait_until_idle\u001b[0m\u001b[1;33m(\u001b[0m\u001b[1;33m)\u001b[0m\u001b[1;33m\u001b[0m\u001b[1;33m\u001b[0m\u001b[0m\n\u001b[0m\u001b[0;32m    335\u001b[0m     \u001b[1;31m# Create a NamedTuple object where the field names are mapping to the graph\u001b[0m\u001b[1;33m\u001b[0m\u001b[1;33m\u001b[0m\u001b[1;33m\u001b[0m\u001b[0m\n\u001b[0;32m    336\u001b[0m     \u001b[1;31m# output stream names.\u001b[0m\u001b[1;33m\u001b[0m\u001b[1;33m\u001b[0m\u001b[1;33m\u001b[0m\u001b[0m\n",
      "\u001b[1;31mKeyboardInterrupt\u001b[0m: "
     ]
    }
   ],
   "source": [
    "# pip install mediapipe pycaw\n",
    "import cv2;\n",
    "import mediapipe as mp;\n",
    "from math import hypot;\n",
    "from ctypes import cast, POINTER;\n",
    "from comtypes import CLSCTX_ALL;\n",
    "from pycaw.pycaw import AudioUtilities, IAudioEndpointVolume;\n",
    "import numpy as np;\n",
    "\n",
    "cap = cv2.VideoCapture(0);\n",
    "\n",
    "mpHands = mp.solutions.hands;\n",
    "hands = mpHands.Hands();\n",
    "mpDraw = mp.solutions.drawing_utils;\n",
    "\n",
    "devices = AudioUtilities.GetSpeakers();\n",
    "interface = devices.Activate(IAudioEndpointVolume._iid_, CLSCTX_ALL, None);\n",
    "volume = cast(interface, POINTER(IAudioEndpointVolume));\n",
    "\n",
    "volMin, volMax = volume.GetVolumeRange()[:2];\n",
    "\n",
    "while True:\n",
    "    success, img = cap.read();\n",
    "    imgRGB = cv2.cvtColor(img, cv2.COLOR_BGR2RGB);\n",
    "    results = hands.process(imgRGB);\n",
    "    \n",
    "    imList = [];\n",
    "    if results.multi_hand_landmarks:\n",
    "        for handlandmark in results.multi_hand_landmarks:\n",
    "            for id, lm in enumerate(handlandmark.landmark):\n",
    "                h, w, _ = img.shape;\n",
    "                cx, cy = int(lm.x*w), int(lm.y*h)\n",
    "                imList.append([id, cx, cy]);\n",
    "            mpDraw.draw_landmarks(img, handlandmark, mpHands.HAND_CONNECTIONS);\n",
    "    \n",
    "    if imList != []:\n",
    "        x1, y1 = imList[4][1], imList[4][2];\n",
    "        x2, y2 = imList[8][1], imList[8][2];\n",
    "        \n",
    "        cv2.circle(img, (x1, y1), 4, (255,0,0), cv2.FILLED);\n",
    "        cv2.circle(img, (x2, y2), 4, (255,0,0), cv2.FILLED);\n",
    "        \n",
    "        cv2.line(img, (x1, y1), (x2, y2), (255,0,0), 3);\n",
    "        \n",
    "        length = hypot(x2-x1, y2-y1)\n",
    "        \n",
    "        vol = np.interp(length, [15, 220], [volMin, volMax]);\n",
    "#         print(vol, length);\n",
    "        volume.SetMasterVolumeLevel(vol, None);\n",
    "        \n",
    "        # Hand range 15 - 220\n",
    "        # Volume range -63.5 - 0.0\n",
    "cv2.imShow('Image', img);\n",
    "if cv2.waitKey(1) & 0xff==ord('q'):\n",
    "#     print('log_off');\n",
    "    break;"
   ]
  }
 ],
 "metadata": {
  "kernelspec": {
   "display_name": "Python 3",
   "language": "python",
   "name": "python3"
  },
  "language_info": {
   "codemirror_mode": {
    "name": "ipython",
    "version": 3
   },
   "file_extension": ".py",
   "mimetype": "text/x-python",
   "name": "python",
   "nbconvert_exporter": "python",
   "pygments_lexer": "ipython3",
   "version": "3.8.8"
  }
 },
 "nbformat": 4,
 "nbformat_minor": 5
}
