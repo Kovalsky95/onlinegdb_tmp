{
 "cells": [
  {
   "cell_type": "code",
   "execution_count": 3,
   "id": "916a85c9",
   "metadata": {},
   "outputs": [
    {
     "ename": "SyntaxError",
     "evalue": "invalid syntax (<ipython-input-3-d7361a3077e6>, line 1)",
     "output_type": "error",
     "traceback": [
      "\u001b[1;36m  File \u001b[1;32m\"<ipython-input-3-d7361a3077e6>\"\u001b[1;36m, line \u001b[1;32m1\u001b[0m\n\u001b[1;33m    ..\\SpyderProject\\venv\\Scripts\\activate\u001b[0m\n\u001b[1;37m    ^\u001b[0m\n\u001b[1;31mSyntaxError\u001b[0m\u001b[1;31m:\u001b[0m invalid syntax\n"
     ]
    }
   ],
   "source": [
    "..\\SpyderProject\\venv\\Scripts\\activate"
   ]
  },
  {
   "cell_type": "code",
   "execution_count": 2,
   "id": "392dda0a",
   "metadata": {},
   "outputs": [],
   "source": [
    "#import necessary packages\n",
    "import os;\n",
    "import cv2;\n",
    "import numpy as np;\n",
    "import mediapipe as mp;\n",
    "#initialize mediapipe\n",
    "mp_selfie_segmentation = mp.solutions.selfie_segmentation;\n",
    "selfie_segmentation = mp_selfie_segmentation.SelfieSegmentation(model_selection=1);\n",
    "\n",
    "#store background image in a list\n",
    "image_path = 'images'\n",
    "images = os.listdir(image_path);\n",
    "image_index = 0;\n",
    "bg_image = cv2.imread(image_path+'{0:s}'.format(os.sep)+images[image_index]);\n",
    "\n",
    "#create videocapture object to access the webcam\n",
    "cap = cv2.VideoCapture(0);\n",
    "while cap.isOpened():\n",
    "    _, frame = cap.read();\n",
    "    frame = cv2.flip(frame, 1);\n",
    "    height, width, channel = frame.shape;\n",
    "    RGB = cv2.cvtColor(frame, cv2.COLOR_BGR2RGB);\n",
    "    results = selfie_segmentation.process(RGB);\n",
    "    mask = results.segmentation_mask;\n",
    "    condition = np.stack((results.segmentation_mask,) * 3, axis =- 1) > 0.6;\n",
    "    \n",
    "    bg_image = cv2.resize(bg_image, (width, height));\n",
    "    output_image = np.where(condition, frame, bg_image);\n",
    "    cv2.imshow('Output', output_image);\n",
    "    cv2.imshow('Frame', frame);\n",
    "    \n",
    "    key = cv2.waitKey(1);\n",
    "    if key == ord('q'):\n",
    "        break;\n",
    "    elif key == ord('d'):\n",
    "        if image_index != len(images)-1:\n",
    "            image_index += 1;\n",
    "        else:\n",
    "            image_index = 0;\n",
    "        bg_image = cv2.imread(image_path+'{0:s}'.format(os.sep)+images[image_index]);\n",
    "cap.release();\n",
    "cv2.destroyAllWindows();"
   ]
  }
 ],
 "metadata": {
  "kernelspec": {
   "display_name": "Python 3",
   "language": "python",
   "name": "python3"
  },
  "language_info": {
   "codemirror_mode": {
    "name": "ipython",
    "version": 3
   },
   "file_extension": ".py",
   "mimetype": "text/x-python",
   "name": "python",
   "nbconvert_exporter": "python",
   "pygments_lexer": "ipython3",
   "version": "3.8.8"
  }
 },
 "nbformat": 4,
 "nbformat_minor": 5
}
