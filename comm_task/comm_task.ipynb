{
 "cells": [
  {
   "cell_type": "markdown",
   "id": "284129c5",
   "metadata": {},
   "source": [
    "## https://university.ylab.io/teach/control/lesson/view/id/230126015\n",
    "## https://github.com/mnv/python-basics\n",
    "## https://github.com/MNV/python-basics/blob/main/README.assets/addresses_map.png\n",
    "## https://pythonworld.ru/tipy-dannyx-v-python/slovari-dict-funkcii-i-metody-slovarej.html\n",
    "## https://docs.python.org/3/tutorial/datastructures.html\n",
    "## https://www.w3schools.com/python/gloss_python_function_recursion.asp"
   ]
  },
  {
   "cell_type": "code",
   "execution_count": 2,
   "id": "44642ad4",
   "metadata": {},
   "outputs": [],
   "source": [
    "import math;\n",
    "def oount_path(lis):\n",
    "    if lis > 1:\n",
    "        lis *= count_path(lis - 1);\n",
    "    return lis;\n"
   ]
  },
  {
   "cell_type": "code",
   "execution_count": 3,
   "id": "364c1ef9",
   "metadata": {},
   "outputs": [],
   "source": [
    "point_begin = \"Почтовое отделение\";\n",
    "point_location = {\n",
    "    \"Почтовое отделение\": (0, 2),\n",
    "    \"Ул. Грибоедова, 104/25\": (2, 5),\n",
    "    \"Ул. Бейкер стрит, 221б\": (5, 2),\n",
    "    \"Ул. Большая Садовая, 302-бис\": (6, 6),\n",
    "    \"Вечнозелёная Аллея, 742\": (8, 3),\n",
    "    \"Рыжая Аллея, 2\": (4, 3)\n",
    "};\n",
    "# for point in point_location:\n",
    "#     print(\n",
    "#         \"{0:s} - {1:}\".format(\n",
    "#             point,\n",
    "#             point_location[point]\n",
    "#         )\n",
    "#     );\n",
    "# print(\n",
    "# #     oount_path(len(point_location) - 1)\n",
    "#     \"Всех возможных маршрутов: {0:}\".format(math.factorial(len(point_location) - 1))\n",
    "# );\n"
   ]
  },
  {
   "cell_type": "markdown",
   "id": "2d69cade",
   "metadata": {},
   "source": [
    "## https://github.com/MNV/python-basics/blob/main/README.assets/points_distance.png\n",
    "## https://www.tutorialspoint.com/python/list_min.htm\n",
    "## https://www.programiz.com/python-programming/methods/list/index\n",
    "## https://www.edureka.co/blog/substring-in-python/"
   ]
  },
  {
   "cell_type": "code",
   "execution_count": 4,
   "id": "22c3efd2",
   "metadata": {},
   "outputs": [],
   "source": [
    "def check_dist(dist):\n",
    "    flag = False;\n",
    "    for dtmp in distantion:\n",
    "        if(dist == dtmp[1]):\n",
    "            flag = True;\n",
    "    return flag;\n",
    "def check_name(name):\n",
    "    flag = False;\n",
    "    for dname in distantion:\n",
    "#         print(dname[0][0]);\n",
    "        if(name == dname[0][0]):\n",
    "            flag = True;\n",
    "    return flag;\n",
    "# def save_dist(names, dist):\n",
    "#     flag = True;\n",
    "#     for dtmp in distantion:\n",
    "#         if(dist == dtmp[1]):\n",
    "#             flag = False;\n",
    "#     if(flag):\n",
    "#         distantion.append([names, dist]);\n",
    "def count_dist(x1, y1, x2, y2):\n",
    "    dtmp = math.sqrt(\n",
    "        math.pow(x2 - x1, 2) + math.pow(y2 - y1, 2)\n",
    "    );\n",
    "    return dtmp;\n",
    "distantion = [];\n",
    "point = point_begin;\n"
   ]
  },
  {
   "cell_type": "code",
   "execution_count": 5,
   "id": "d6f62696",
   "metadata": {},
   "outputs": [],
   "source": [
    "while True:\n",
    "# for point in point_location:\n",
    "    x1 = point_location[point][0];\n",
    "    y1 = point_location[point][1];\n",
    "    name = \"\";\n",
    "    dist = [];\n",
    "    dist_names = [];\n",
    "    for tmp in point_location:\n",
    "        x2 = point_location[tmp][0];\n",
    "        y2 = point_location[tmp][1];\n",
    "        dtmp = count_dist(\n",
    "            x1, y1, x2, y2\n",
    "        );\n",
    "        if(dtmp > 0):\n",
    "            name = \"From {0:} ({2:}, {3:}) to {1:} ({4:}, {5:}) - \".format(\n",
    "                point, tmp, x1, y1, x2, y2\n",
    "            );\n",
    "            if(not check_name(tmp)):#(not check_dist(dtmp)):\n",
    "                dist.append(dtmp);\n",
    "                dist_names.append([point, (x1, y1), tmp, (x2, y2)]);\n",
    "#                 print(dist, dist_names);\n",
    "#             print(\"{0:}{1:}\".format(\n",
    "#                 name,\n",
    "#                 dtmp\n",
    "#             ));\n",
    "#         else:\n",
    "#             print(tmp);\n",
    "#     print(\"\");\n",
    "    \n",
    "    if(len(distantion) == len(point_location) - 1):\n",
    "        point = distantion[len(distantion) - 1][0][2];\n",
    "        tmp = point_begin;\n",
    "        distantion.append([\n",
    "            [point, point_location[point], tmp, point_location[tmp]],\n",
    "            count_dist(\n",
    "                point_location[point][0], point_location[point][1],\n",
    "                point_location[tmp][0], point_location[tmp][1]\n",
    "            )\n",
    "        ]);\n",
    "        break;\n",
    "    else:\n",
    "        distantion.append([\n",
    "            dist_names[dist.index(min(dist))],\n",
    "            min(dist)\n",
    "        ]);\n",
    "        point = dist_names[dist.index(min(dist))][2];\n",
    "#         print(dist);\n",
    "#         print(distantion);\n",
    "#         print(dist_names[dist.index(min(dist))]);\n",
    "#         print(distantion[len(distantion) - 1]);\n"
   ]
  },
  {
   "cell_type": "code",
   "execution_count": 11,
   "id": "1b7aa705",
   "metadata": {},
   "outputs": [
    {
     "name": "stdout",
     "output_type": "stream",
     "text": [
      "Дорожная карта смены (почта, минимальный маршрут):\n",
      "From Почтовое отделение (0, 2) to Ул. Грибоедова, 104/25 (2, 5) - 3.605551275463989\n",
      "From Ул. Грибоедова, 104/25 (2, 5) to Рыжая Аллея, 2 (4, 3) - 2.8284271247461903\n",
      "From Рыжая Аллея, 2 (4, 3) to Ул. Бейкер стрит, 221б (5, 2) - 1.4142135623730951\n",
      "From Ул. Бейкер стрит, 221б (5, 2) to Вечнозелёная Аллея, 742 (8, 3) - 3.1622776601683795\n",
      "From Вечнозелёная Аллея, 742 (8, 3) to Ул. Большая Садовая, 302-бис (6, 6) - 3.605551275463989\n",
      "From Ул. Большая Садовая, 302-бис (6, 6) to Почтовое отделение (0, 2) - 7.211102550927978\n",
      "Расстояние всего маршрута - 21.82712344914362\n"
     ]
    }
   ],
   "source": [
    "print(\"Дорожная карта смены (почта, минимальный маршрут):\");\n",
    "for d in distantion:\n",
    "    print(\"From {0:} ({2:}, {3:}) to {1:} ({4:}, {5:}) - {6:}\".format(\n",
    "        d[0][0], d[0][2],#point, tmp\n",
    "        d[0][1][0], d[0][1][1],#x1, y1\n",
    "        d[0][3][0], d[0][3][1],#x2, y2\n",
    "        d[1]#dist\n",
    "    ));\n",
    "all_dist = 0;\n",
    "for d in distantion:\n",
    "    all_dist += d[1];\n",
    "print(\"Расстояние всего маршрута - {0:}\".format(all_dist));\n"
   ]
  },
  {
   "cell_type": "code",
   "execution_count": null,
   "id": "5f99815f",
   "metadata": {},
   "outputs": [],
   "source": []
  },
  {
   "cell_type": "code",
   "execution_count": null,
   "id": "a82261bf",
   "metadata": {},
   "outputs": [],
   "source": []
  }
 ],
 "metadata": {
  "kernelspec": {
   "display_name": "Python 3",
   "language": "python",
   "name": "python3"
  },
  "language_info": {
   "codemirror_mode": {
    "name": "ipython",
    "version": 3
   },
   "file_extension": ".py",
   "mimetype": "text/x-python",
   "name": "python",
   "nbconvert_exporter": "python",
   "pygments_lexer": "ipython3",
   "version": "3.8.8"
  }
 },
 "nbformat": 4,
 "nbformat_minor": 5
}
